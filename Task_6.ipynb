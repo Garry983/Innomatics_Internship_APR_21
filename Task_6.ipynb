{
 "cells": [
  {
   "cell_type": "code",
   "execution_count": 1,
   "id": "aa647c89",
   "metadata": {},
   "outputs": [
    {
     "name": "stdout",
     "output_type": "stream",
     "text": [
      "-10 -8 1 2 3\n"
     ]
    }
   ],
   "source": [
    "import numpy\n",
    "\n",
    "def arrays(arr):\n",
    "    # complete this function\n",
    "    # use numpy.array\n",
    "    num= numpy.array(arr,float)\n",
    "    return numpy.sort(num)\n",
    "\n",
    "arr = input().strip().split(' ')"
   ]
  },
  {
   "cell_type": "code",
   "execution_count": 2,
   "id": "7559f2a9",
   "metadata": {},
   "outputs": [
    {
     "data": {
      "text/plain": [
       "array([-10.,  -8.,   1.,   2.,   3.])"
      ]
     },
     "execution_count": 2,
     "metadata": {},
     "output_type": "execute_result"
    }
   ],
   "source": [
    "arrays(arr)"
   ]
  },
  {
   "cell_type": "code",
   "execution_count": 9,
   "id": "8d6962b7",
   "metadata": {},
   "outputs": [
    {
     "name": "stdout",
     "output_type": "stream",
     "text": [
      "2 4 2\n",
      "1 3 \n",
      "4 5\n",
      "2 6\n",
      "7 2\n",
      "8 2\n",
      "5 6\n",
      "[[1 3]\n",
      " [4 5]\n",
      " [2 6]\n",
      " [7 2]\n",
      " [8 2]\n",
      " [5 6]]\n"
     ]
    }
   ],
   "source": [
    "import numpy\n",
    "n, m ,p = map(int, input().split())\n",
    "array_1 = numpy.array([input().strip().split() for _ in range(n)], int)\n",
    "array_2 = numpy.array([input().strip().split() for _ in range(m)], int)\n",
    "\n",
    "print(numpy.concatenate((array_1, array_2), axis = 0) )  \n",
    "\n"
   ]
  },
  {
   "cell_type": "code",
   "execution_count": 14,
   "id": "fb8dfd84",
   "metadata": {},
   "outputs": [
    {
     "name": "stdout",
     "output_type": "stream",
     "text": [
      "3 3 3\n",
      "[[[0 0 0]\n",
      "  [0 0 0]\n",
      "  [0 0 0]]\n",
      "\n",
      " [[0 0 0]\n",
      "  [0 0 0]\n",
      "  [0 0 0]]\n",
      "\n",
      " [[0 0 0]\n",
      "  [0 0 0]\n",
      "  [0 0 0]]]\n",
      "[[[1 1 1]\n",
      "  [1 1 1]\n",
      "  [1 1 1]]\n",
      "\n",
      " [[1 1 1]\n",
      "  [1 1 1]\n",
      "  [1 1 1]]\n",
      "\n",
      " [[1 1 1]\n",
      "  [1 1 1]\n",
      "  [1 1 1]]]\n"
     ]
    }
   ],
   "source": [
    "n, m ,p = map(int, input().split())\n",
    "print(numpy.zeros((n,m,p),dtype=numpy.int))\n",
    "print(numpy.ones((n,m,p),dtype=numpy.int))"
   ]
  },
  {
   "cell_type": "code",
   "execution_count": 15,
   "id": "edfe34ba",
   "metadata": {},
   "outputs": [
    {
     "name": "stdout",
     "output_type": "stream",
     "text": [
      "3 3\n",
      "[[ 1.  0.  0.]\n",
      " [ 0.  1.  0.]\n",
      " [ 0.  0.  1.]]\n"
     ]
    }
   ],
   "source": [
    "import numpy\n",
    "\n",
    "print(str(numpy.eye(*map(int,input().split()))).replace('1',' 1').replace('0',' 0'))\n",
    "\n",
    "\n"
   ]
  },
  {
   "cell_type": "code",
   "execution_count": 17,
   "id": "5a64d0e6",
   "metadata": {},
   "outputs": [
    {
     "name": "stdout",
     "output_type": "stream",
     "text": [
      "1.1 2.2 3.3 4.4 5.5 6.6 7.7 8.8 9.9\n",
      "[ 1.  2.  3.  4.  5.  6.  7.  8.  9.]\n",
      "[  2.   3.   4.   5.   6.   7.   8.   9.  10.]\n",
      "[  1.   2.   3.   4.   6.   7.   8.   9.  10.]\n"
     ]
    }
   ],
   "source": [
    "import numpy\n",
    "import numpy\n",
    "\n",
    "numpy.set_printoptions(sign=' ')\n",
    "\n",
    "arr = numpy.array(input().split(),float)\n",
    "\n",
    "print(numpy.floor(arr))\n",
    "print(numpy.ceil(arr))\n",
    "print(numpy.rint(arr))\n"
   ]
  },
  {
   "cell_type": "code",
   "execution_count": 18,
   "id": "ec4ed625",
   "metadata": {},
   "outputs": [
    {
     "name": "stdout",
     "output_type": "stream",
     "text": [
      "2 2\n",
      "1 2\n",
      "3 4\n",
      "24\n"
     ]
    }
   ],
   "source": [
    "import numpy\n",
    "import numpy\n",
    "n, m  = map(int, input().split())\n",
    "array_1 = numpy.array([input().strip().split() for _ in range(n)], int)\n",
    "arr_2=numpy.sum(array_1, axis = 0)\n",
    "print(numpy.prod(arr_2))   \n"
   ]
  },
  {
   "cell_type": "code",
   "execution_count": 19,
   "id": "7ac2507a",
   "metadata": {},
   "outputs": [
    {
     "name": "stdout",
     "output_type": "stream",
     "text": [
      "4 2 \n",
      "3 5\n",
      "1 3\n",
      "7 0\n",
      "5 5\n",
      "5\n"
     ]
    }
   ],
   "source": [
    "import numpy\n",
    "\n",
    "n, m  = map(int, input().split())\n",
    "array_1 = numpy.array([input().strip().split() for _ in range(n)], int)\n",
    "arr_2=numpy.min(array_1, axis = 1)\n",
    "print(numpy.max(arr_2))   \n"
   ]
  },
  {
   "cell_type": "code",
   "execution_count": 20,
   "id": "c183927d",
   "metadata": {},
   "outputs": [
    {
     "name": "stdout",
     "output_type": "stream",
     "text": [
      "2 2\n",
      "1 2\n",
      "3 4\n",
      "[ 1.5  3.5]\n",
      "[ 1.  1.]\n",
      "1.11803398875\n"
     ]
    }
   ],
   "source": [
    "import numpy\n",
    "n, m  = map(int, input().split())\n",
    "array_1 = numpy.array([input().strip().split() for _ in range(n)], int)\n",
    "print(numpy.mean(array_1,axis=1))\n",
    "print(numpy.var(array_1,axis=0))\n",
    "print(numpy.std(array_1,axis=None))\n",
    "\n",
    "\n"
   ]
  },
  {
   "cell_type": "code",
   "execution_count": 1,
   "id": "e6809a9b",
   "metadata": {},
   "outputs": [
    {
     "name": "stdout",
     "output_type": "stream",
     "text": [
      "2\n",
      "1 4\n",
      "2 4\n",
      "1 1\n",
      "1 3\n",
      "[[ 5 13]\n",
      " [ 6 14]]\n"
     ]
    }
   ],
   "source": [
    "import numpy\n",
    "\n",
    "\n",
    "n=int(input())\n",
    "\n",
    "arr1=numpy.array([list(map(int,input().split())) for _ in range(n)])\n",
    "\n",
    "arr2=numpy.array([list(map(int,input().split())) for _ in range(n)])\n",
    "\n",
    "print(numpy.dot(arr1,arr2))\n",
    "\n",
    "\n"
   ]
  },
  {
   "cell_type": "code",
   "execution_count": 3,
   "id": "f673f485",
   "metadata": {},
   "outputs": [
    {
     "name": "stdout",
     "output_type": "stream",
     "text": [
      "-6 5 4 3 2\n",
      "2\n",
      "-32.0\n"
     ]
    }
   ],
   "source": [
    "import numpy\n",
    "import numpy \n",
    "\n",
    "p = numpy.array(input().split(), float)\n",
    "x = float(input())\n",
    "print (numpy.polyval(p, x))"
   ]
  },
  {
   "cell_type": "code",
   "execution_count": 5,
   "id": "ff44a657",
   "metadata": {},
   "outputs": [
    {
     "name": "stdout",
     "output_type": "stream",
     "text": [
      "2\n",
      "1 2\n",
      "3 4\n",
      "-2.0000000000000004\n"
     ]
    }
   ],
   "source": [
    "import numpy as np\n",
    "n=int(input())\n",
    "array_1 = np.array([input().strip().split() for _ in range(n)], int)\n",
    "print(np.linalg.det(array_1)) \n",
    "\n",
    "\n"
   ]
  },
  {
   "cell_type": "code",
   "execution_count": 6,
   "id": "78a79b37",
   "metadata": {},
   "outputs": [
    {
     "name": "stdout",
     "output_type": "stream",
     "text": [
      "2\n",
      "1 2\n",
      "2 4\n",
      "0.0\n"
     ]
    }
   ],
   "source": [
    "import numpy as np\n",
    "n=int(input())\n",
    "array_1 = np.array([input().strip().split() for _ in range(n)], int)\n",
    "res=np.linalg.det(array_1)\n",
    "res_2=round(res,2) \n",
    "print(res_2)"
   ]
  },
  {
   "cell_type": "code",
   "execution_count": null,
   "id": "a2e62662",
   "metadata": {},
   "outputs": [],
   "source": []
  }
 ],
 "metadata": {
  "kernelspec": {
   "display_name": "Python 3",
   "language": "python",
   "name": "python3"
  },
  "language_info": {
   "codemirror_mode": {
    "name": "ipython",
    "version": 3
   },
   "file_extension": ".py",
   "mimetype": "text/x-python",
   "name": "python",
   "nbconvert_exporter": "python",
   "pygments_lexer": "ipython3",
   "version": "3.8.3"
  }
 },
 "nbformat": 4,
 "nbformat_minor": 5
}
