{
 "cells": [
  {
   "cell_type": "code",
   "execution_count": 5,
   "id": "184d7734",
   "metadata": {},
   "outputs": [
    {
     "name": "stdout",
     "output_type": "stream",
     "text": [
      "4\n",
      "4.0\n",
      "True\n",
      "3.0\n",
      "True\n",
      "3\n",
      "False\n",
      "7\n",
      "False\n"
     ]
    }
   ],
   "source": [
    "#Q1\n",
    "from re import match, compile\n",
    "\n",
    "pattern = compile('^[-+]?[0-9]*\\.[0-9]+$')\n",
    "for _ in range(int(input())):\n",
    "    print(bool(pattern.match(input())))"
   ]
  },
  {
   "cell_type": "code",
   "execution_count": 6,
   "id": "6b8221f0",
   "metadata": {},
   "outputs": [
    {
     "name": "stdout",
     "output_type": "stream",
     "text": [
      "100,000,000.000\n",
      "100\n",
      "000\n",
      "000\n",
      "000\n"
     ]
    }
   ],
   "source": [
    "#Q2\n",
    "import re\n",
    "\n",
    "regex_pattern = r'[.,]+'\n",
    "\n",
    "print('\\n'.join(re.split(regex_pattern, input())))"
   ]
  },
  {
   "cell_type": "code",
   "execution_count": 10,
   "id": "b4359443",
   "metadata": {},
   "outputs": [
    {
     "name": "stdout",
     "output_type": "stream",
     "text": [
      "hutsterkon\n",
      "-1\n"
     ]
    }
   ],
   "source": [
    "#Q3\n",
    "import re\n",
    "\n",
    "vowels = 'aeiou'\n",
    "consonants = 'qwrtypsdfghjklzxcvbnm'\n",
    "match = re.findall(r'(?<=[' + consonants + '])([' + vowels + ']{2,})(?=[' + consonants + '])', input(), flags=re.I)\n",
    "print('\\n'.join(match or ['-1']))"
   ]
  },
  {
   "cell_type": "markdown",
   "id": "c2df0e88",
   "metadata": {},
   "source": [
    "#Q4\n",
    "I am trying other problems right now"
   ]
  }
 ],
 "metadata": {
  "kernelspec": {
   "display_name": "Python 3",
   "language": "python",
   "name": "python3"
  },
  "language_info": {
   "codemirror_mode": {
    "name": "ipython",
    "version": 3
   },
   "file_extension": ".py",
   "mimetype": "text/x-python",
   "name": "python",
   "nbconvert_exporter": "python",
   "pygments_lexer": "ipython3",
   "version": "3.8.3"
  }
 },
 "nbformat": 4,
 "nbformat_minor": 5
}
