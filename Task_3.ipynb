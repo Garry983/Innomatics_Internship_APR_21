{
 "cells": [
  {
   "cell_type": "code",
   "execution_count": 3,
   "id": "56798223",
   "metadata": {},
   "outputs": [
    {
     "name": "stdout",
     "output_type": "stream",
     "text": [
      "2+3j\n",
      "(3.6055512754639896, 0.982793723247329)\n"
     ]
    }
   ],
   "source": [
    "#Q1 \n",
    "import cmath\n",
    "a=input()\n",
    "#find the polar coordinates of complex number\n",
    "print (cmath.polar(complex(a)))\n"
   ]
  },
  {
   "cell_type": "code",
   "execution_count": 5,
   "id": "96e2aa3f",
   "metadata": {},
   "outputs": [
    {
     "name": "stdout",
     "output_type": "stream",
     "text": [
      "2\n",
      "3\n"
     ]
    }
   ],
   "source": [
    "#Q2\n",
    "import math\n",
    "a=int(input())\n",
    "b=int(input())\n",
    "c=math.sqrt(a**2+b**2)\n",
    "d=math.atan(a/b)\n",
    "d=d*180/3.14\n",
    "print(d)"
   ]
  },
  {
   "cell_type": "code",
   "execution_count": 32,
   "id": "1cc3b38a",
   "metadata": {},
   "outputs": [
    {
     "name": "stdout",
     "output_type": "stream",
     "text": [
      "3\n",
      "\n",
      "\n",
      "0 \n",
      "\n",
      "0 -1 1 0 \n",
      "\n",
      "0 -1 -1 1 0 0 2 1 1 \n",
      "\n"
     ]
    }
   ],
   "source": [
    "#Q3\n",
    "a=int(input())\n",
    "i=1\n",
    "for i in range(a+1):\n",
    "    for j in range(i):\n",
    "        print(j,end=' ')\n",
    "        for k in range(i-1):\n",
    "            c=j-1\n",
    "            print(c,end=' ')\n",
    "    print('\\n')\n"
   ]
  },
  {
   "cell_type": "markdown",
   "id": "848ce884",
   "metadata": {},
   "source": [
    "### d=math.atan(a/b)"
   ]
  },
  {
   "cell_type": "code",
   "execution_count": 10,
   "id": "6175431d",
   "metadata": {},
   "outputs": [],
   "source": [
    "d=d*180/3.14"
   ]
  },
  {
   "cell_type": "code",
   "execution_count": 11,
   "id": "095921f2",
   "metadata": {},
   "outputs": [
    {
     "data": {
      "text/plain": [
       "33.70715561737648"
      ]
     },
     "execution_count": 11,
     "metadata": {},
     "output_type": "execute_result"
    }
   ],
   "source": [
    "d"
   ]
  },
  {
   "cell_type": "code",
   "execution_count": 53,
   "id": "753bba70",
   "metadata": {},
   "outputs": [
    {
     "name": "stdout",
     "output_type": "stream",
     "text": [
      "3\n",
      "1 \n",
      "\n",
      "1 2 1 \n",
      "\n",
      "1 2 3 2 1 \n",
      "\n"
     ]
    }
   ],
   "source": [
    "#Q4\n",
    "a=int(input())\n",
    "\n",
    "for i in range(1,a+1):\n",
    "    for j in range(1,i+1):\n",
    "        print(j,end=' ')\n",
    "    for k in range(i-1,0,-1):\n",
    "            print(k,end=' ')\n",
    "    print('\\n')"
   ]
  },
  {
   "cell_type": "code",
   "execution_count": 37,
   "id": "8ac073a7",
   "metadata": {},
   "outputs": [
    {
     "data": {
      "text/plain": [
       "2"
      ]
     },
     "execution_count": 37,
     "metadata": {},
     "output_type": "execute_result"
    }
   ],
   "source": [
    "i"
   ]
  },
  {
   "cell_type": "code",
   "execution_count": 54,
   "id": "93a24c03",
   "metadata": {},
   "outputs": [
    {
     "name": "stdout",
     "output_type": "stream",
     "text": [
      "45\n",
      "5\n",
      "(9, 0)\n"
     ]
    }
   ],
   "source": [
    "#Q5\n",
    "num=int(input())\n",
    "den=int(input())\n",
    "print(divmod(num,den))"
   ]
  },
  {
   "cell_type": "code",
   "execution_count": 55,
   "id": "85eea7f0",
   "metadata": {},
   "outputs": [
    {
     "name": "stdout",
     "output_type": "stream",
     "text": [
      "3\n",
      "4\n",
      "5\n",
      "1\n"
     ]
    }
   ],
   "source": [
    "#Q6\n",
    "a=int(input())\n",
    "b=int(input())\n",
    "m=int(input())\n",
    "print(pow(a,b,m))"
   ]
  },
  {
   "cell_type": "code",
   "execution_count": 56,
   "id": "82e1c84e",
   "metadata": {},
   "outputs": [
    {
     "name": "stdout",
     "output_type": "stream",
     "text": [
      "3000000\n",
      "2\n",
      "400000\n",
      "3\n",
      "64009000000000000\n"
     ]
    }
   ],
   "source": [
    "#Q7\n",
    "a=int(input())\n",
    "b=int(input())\n",
    "c=int(input())\n",
    "d=int(input())\n",
    "print(pow(a,b)+pow(c,d))"
   ]
  },
  {
   "cell_type": "code",
   "execution_count": 60,
   "id": "84493f6e",
   "metadata": {},
   "outputs": [
    {
     "name": "stdout",
     "output_type": "stream",
     "text": [
      "8\n",
      "1 \n",
      "\n",
      "2 2 \n",
      "\n",
      "3 3 3 \n",
      "\n",
      "4 4 4 4 \n",
      "\n",
      "5 5 5 5 5 \n",
      "\n",
      "6 6 6 6 6 6 \n",
      "\n",
      "7 7 7 7 7 7 7 \n",
      "\n"
     ]
    }
   ],
   "source": [
    "#Q8\n",
    "number=int(input())\n",
    "for i in range(1,number):\n",
    "    for j in range(i):\n",
    "        print(i,end=\" \")\n",
    "    print('\\n')\n",
    "    "
   ]
  },
  {
   "cell_type": "code",
   "execution_count": null,
   "id": "5d111e51",
   "metadata": {},
   "outputs": [],
   "source": []
  }
 ],
 "metadata": {
  "kernelspec": {
   "display_name": "Python 3",
   "language": "python",
   "name": "python3"
  },
  "language_info": {
   "codemirror_mode": {
    "name": "ipython",
    "version": 3
   },
   "file_extension": ".py",
   "mimetype": "text/x-python",
   "name": "python",
   "nbconvert_exporter": "python",
   "pygments_lexer": "ipython3",
   "version": "3.8.3"
  }
 },
 "nbformat": 4,
 "nbformat_minor": 5
}
