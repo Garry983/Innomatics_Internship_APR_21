{
 "cells": [
  {
   "cell_type": "code",
   "execution_count": 1,
   "id": "d7cdeefe",
   "metadata": {},
   "outputs": [
    {
     "name": "stdout",
     "output_type": "stream",
     "text": [
      "python Garima\n",
      "PYTHON gARIMA\n"
     ]
    }
   ],
   "source": [
    "#Q1\n",
    "def swap_case(s):\n",
    "    return s.swapcase()\n",
    "if __name__ == '__main__':\n",
    "    s = input()\n",
    "    result = swap_case(s)\n",
    "    print(result)"
   ]
  },
  {
   "cell_type": "code",
   "execution_count": 2,
   "id": "528ea068",
   "metadata": {},
   "outputs": [
    {
     "name": "stdout",
     "output_type": "stream",
     "text": [
      "Garima Saluja Happy\n",
      "Garima-Saluja-Happy\n"
     ]
    }
   ],
   "source": [
    "#Q2\n",
    "str = input()\n",
    "    # Traverse the string character by character.\n",
    "for i in range(0, len(str), 1):\n",
    "         \n",
    "        # Changing the ith character\n",
    "        # to '-' if it's a space.\n",
    "    if (str[i] == ' '):\n",
    "        str = str.replace(str[i], '-')\n",
    "             \n",
    "    # Print the modified string.\n",
    "print(str)"
   ]
  },
  {
   "cell_type": "code",
   "execution_count": 6,
   "id": "a48a6756",
   "metadata": {},
   "outputs": [
    {
     "name": "stdout",
     "output_type": "stream",
     "text": [
      "Garima\n",
      "Saluja\n",
      "Garima Saluja\n"
     ]
    }
   ],
   "source": [
    "#Q3\n",
    "First=input()\n",
    "Last=input()\n",
    "print(First +' '+ Last)"
   ]
  },
  {
   "cell_type": "code",
   "execution_count": 8,
   "id": "14ad1ade",
   "metadata": {},
   "outputs": [
    {
     "name": "stdout",
     "output_type": "stream",
     "text": [
      "Garima\n",
      "2\n",
      "k\n",
      "Gakrima\n"
     ]
    }
   ],
   "source": [
    "#Q4\n",
    "str=input()\n",
    "pos=int(input())\n",
    "char=input()\n",
    "print(str[0:pos]+char+str[pos:])"
   ]
  },
  {
   "cell_type": "code",
   "execution_count": 9,
   "id": "2022e926",
   "metadata": {},
   "outputs": [
    {
     "name": "stdout",
     "output_type": "stream",
     "text": [
      "Garrimmar\n",
      "ar\n"
     ]
    },
    {
     "data": {
      "text/plain": [
       "2"
      ]
     },
     "execution_count": 9,
     "metadata": {},
     "output_type": "execute_result"
    }
   ],
   "source": [
    "#Q5\n",
    "str=input()\n",
    "sub=input()\n",
    "str.count(sub)"
   ]
  },
  {
   "cell_type": "code",
   "execution_count": 12,
   "id": "ae1d9a6b",
   "metadata": {},
   "outputs": [
    {
     "name": "stdout",
     "output_type": "stream",
     "text": [
      "Garima\n",
      "True\n",
      "True\n",
      "False\n",
      "False\n",
      "False\n"
     ]
    }
   ],
   "source": [
    "#Q6\n",
    "str=input()\n",
    "print(str.isalnum())\n",
    "print(str.isalpha())\n",
    "print(str.isdigit())\n",
    "print(str.islower())\n",
    "print(str.isupper())"
   ]
  },
  {
   "cell_type": "code",
   "execution_count": 14,
   "id": "751070c2",
   "metadata": {},
   "outputs": [
    {
     "name": "stdout",
     "output_type": "stream",
     "text": [
      "abscdefghijklmnopqrst\n",
      "4\n",
      "absc\n",
      "defg\n",
      "hijk\n",
      "lmno\n",
      "pqrs\n",
      "t\n"
     ]
    }
   ],
   "source": [
    "#Q7\n",
    "import textwrap\n",
    "\n",
    "def wrap(str, max_width):\n",
    "    return textwrap.fill(str, max_width)\n",
    "\n",
    "if __name__ == '__main__':\n",
    "    str, max_width = input(), int(input())\n",
    "    res = wrap(str, max_width)\n",
    "    print(res)"
   ]
  },
  {
   "cell_type": "code",
   "execution_count": 20,
   "id": "55d43ecd",
   "metadata": {},
   "outputs": [
    {
     "name": "stdout",
     "output_type": "stream",
     "text": [
      "4 5\n",
      "-.|.-\n",
      ".|..|..|.\n",
      "WELCOME\n",
      ".|..|..|.\n",
      "-.|.-\n"
     ]
    }
   ],
   "source": [
    "#Q8\n",
    "n, m = map(int,input().split())\n",
    "pattern = [('.|.'*(2*i + 1)).center(m, '-') for i in range(n//2)]\n",
    "print('\\n'.join(pattern + ['WELCOME'.center(m, '-')] + pattern[::-1]))"
   ]
  },
  {
   "cell_type": "code",
   "execution_count": 26,
   "id": "a9f67940",
   "metadata": {},
   "outputs": [
    {
     "name": "stdout",
     "output_type": "stream",
     "text": [
      "5\n"
     ]
    },
    {
     "ename": "TypeError",
     "evalue": "'str' object is not callable",
     "output_type": "error",
     "traceback": [
      "\u001b[1;31m---------------------------------------------------------------------------\u001b[0m",
      "\u001b[1;31mTypeError\u001b[0m                                 Traceback (most recent call last)",
      "\u001b[1;32m<ipython-input-26-aea696d24ee3>\u001b[0m in \u001b[0;36m<module>\u001b[1;34m\u001b[0m\n\u001b[0;32m     14\u001b[0m \u001b[1;32mif\u001b[0m \u001b[0m__name__\u001b[0m \u001b[1;33m==\u001b[0m \u001b[1;34m'__main__'\u001b[0m\u001b[1;33m:\u001b[0m\u001b[1;33m\u001b[0m\u001b[1;33m\u001b[0m\u001b[0m\n\u001b[0;32m     15\u001b[0m     \u001b[0mn\u001b[0m \u001b[1;33m=\u001b[0m \u001b[0mint\u001b[0m\u001b[1;33m(\u001b[0m\u001b[0minput\u001b[0m\u001b[1;33m(\u001b[0m\u001b[1;33m)\u001b[0m\u001b[1;33m)\u001b[0m\u001b[1;33m\u001b[0m\u001b[1;33m\u001b[0m\u001b[0m\n\u001b[1;32m---> 16\u001b[1;33m     \u001b[0mprint_formatted\u001b[0m\u001b[1;33m(\u001b[0m\u001b[0mn\u001b[0m\u001b[1;33m)\u001b[0m\u001b[1;33m\u001b[0m\u001b[1;33m\u001b[0m\u001b[0m\n\u001b[0m",
      "\u001b[1;32m<ipython-input-26-aea696d24ee3>\u001b[0m in \u001b[0;36mprint_formatted\u001b[1;34m(number)\u001b[0m\n\u001b[0;32m      5\u001b[0m \u001b[1;33m\u001b[0m\u001b[0m\n\u001b[0;32m      6\u001b[0m     \u001b[1;32mfor\u001b[0m \u001b[0mi\u001b[0m \u001b[1;32min\u001b[0m \u001b[0mrange\u001b[0m\u001b[1;33m(\u001b[0m\u001b[1;36m1\u001b[0m\u001b[1;33m,\u001b[0m\u001b[0mnumber\u001b[0m\u001b[1;33m+\u001b[0m\u001b[1;36m1\u001b[0m\u001b[1;33m)\u001b[0m\u001b[1;33m:\u001b[0m\u001b[1;33m\u001b[0m\u001b[1;33m\u001b[0m\u001b[0m\n\u001b[1;32m----> 7\u001b[1;33m         \u001b[0mprint\u001b[0m\u001b[1;33m(\u001b[0m\u001b[0mstr\u001b[0m\u001b[1;33m(\u001b[0m\u001b[0mi\u001b[0m\u001b[1;33m)\u001b[0m\u001b[1;33m.\u001b[0m\u001b[0mrjust\u001b[0m\u001b[1;33m(\u001b[0m\u001b[0ml1\u001b[0m\u001b[1;33m,\u001b[0m\u001b[1;34m' '\u001b[0m\u001b[1;33m)\u001b[0m\u001b[1;33m,\u001b[0m\u001b[0mend\u001b[0m\u001b[1;33m=\u001b[0m\u001b[1;34m\" \"\u001b[0m\u001b[1;33m)\u001b[0m\u001b[1;33m\u001b[0m\u001b[1;33m\u001b[0m\u001b[0m\n\u001b[0m\u001b[0;32m      8\u001b[0m         \u001b[0mprint\u001b[0m\u001b[1;33m(\u001b[0m\u001b[0moct\u001b[0m\u001b[1;33m(\u001b[0m\u001b[0mi\u001b[0m\u001b[1;33m)\u001b[0m\u001b[1;33m[\u001b[0m\u001b[1;36m2\u001b[0m\u001b[1;33m:\u001b[0m\u001b[1;33m]\u001b[0m\u001b[1;33m.\u001b[0m\u001b[0mrjust\u001b[0m\u001b[1;33m(\u001b[0m\u001b[0ml1\u001b[0m\u001b[1;33m,\u001b[0m\u001b[1;34m' '\u001b[0m\u001b[1;33m)\u001b[0m\u001b[1;33m,\u001b[0m\u001b[0mend\u001b[0m\u001b[1;33m=\u001b[0m\u001b[1;34m\" \"\u001b[0m\u001b[1;33m)\u001b[0m\u001b[1;33m\u001b[0m\u001b[1;33m\u001b[0m\u001b[0m\n\u001b[0;32m      9\u001b[0m         \u001b[0mprint\u001b[0m\u001b[1;33m(\u001b[0m\u001b[1;33m(\u001b[0m\u001b[1;33m(\u001b[0m\u001b[0mhex\u001b[0m\u001b[1;33m(\u001b[0m\u001b[0mi\u001b[0m\u001b[1;33m)\u001b[0m\u001b[1;33m[\u001b[0m\u001b[1;36m2\u001b[0m\u001b[1;33m:\u001b[0m\u001b[1;33m]\u001b[0m\u001b[1;33m)\u001b[0m\u001b[1;33m.\u001b[0m\u001b[0mupper\u001b[0m\u001b[1;33m(\u001b[0m\u001b[1;33m)\u001b[0m\u001b[1;33m)\u001b[0m\u001b[1;33m.\u001b[0m\u001b[0mrjust\u001b[0m\u001b[1;33m(\u001b[0m\u001b[0ml1\u001b[0m\u001b[1;33m,\u001b[0m\u001b[1;34m' '\u001b[0m\u001b[1;33m)\u001b[0m\u001b[1;33m,\u001b[0m\u001b[0mend\u001b[0m\u001b[1;33m=\u001b[0m\u001b[1;34m\" \"\u001b[0m\u001b[1;33m)\u001b[0m\u001b[1;33m\u001b[0m\u001b[1;33m\u001b[0m\u001b[0m\n",
      "\u001b[1;31mTypeError\u001b[0m: 'str' object is not callable"
     ]
    }
   ],
   "source": [
    "#Q9\n"
   ]
  },
  {
   "cell_type": "code",
   "execution_count": 28,
   "id": "e8cfa2c5",
   "metadata": {},
   "outputs": [
    {
     "name": "stdout",
     "output_type": "stream",
     "text": [
      "4\n",
      "------d------\n",
      "----d-c-d----\n",
      "--d-c-b-c-d--\n",
      "d-c-b-a-b-c-d\n",
      "--d-c-b-c-d--\n",
      "----d-c-d----\n",
      "------d------\n"
     ]
    }
   ],
   "source": [
    "#Q10\n",
    "import string\n",
    "alpha = string.ascii_lowercase\n",
    "\n",
    "def print_rangoli(size):\n",
    "    lines = []\n",
    "    for row in range(size):\n",
    "        to_print = \"-\".join(alpha[row:size])\n",
    "        lines.append(to_print[::-1] + to_print[1:])\n",
    "    width = len(lines[0])\n",
    "    \n",
    "    for row in range(size-1, 0, -1):\n",
    "        print(lines[row].center(width, '-'))\n",
    "        \n",
    "    for row in range(size):\n",
    "        print(lines[row].center(width, '-'))\n",
    "if __name__ == '__main__':\n",
    "    a=int(input())\n",
    "    print_rangoli(a)"
   ]
  },
  {
   "cell_type": "code",
   "execution_count": 31,
   "id": "b4bd188c",
   "metadata": {},
   "outputs": [
    {
     "name": "stdout",
     "output_type": "stream",
     "text": [
      "garima saluja\n",
      "Garima Saluja\n"
     ]
    }
   ],
   "source": [
    "#Q11\n",
    "def capitalize(string):\n",
    "    full_name = string.split(' ')\n",
    "    return ' '.join((word.capitalize() for word in full_name))\n",
    "\n",
    "\n",
    "if __name__ == '__main__':\n",
    "    string = input()\n",
    "    capitalized_string = capitalize(string)\n",
    "    print(capitalized_string)"
   ]
  },
  {
   "cell_type": "code",
   "execution_count": 33,
   "id": "d6ddb703",
   "metadata": {},
   "outputs": [
    {
     "name": "stdout",
     "output_type": "stream",
     "text": [
      "BANANA\n",
      "Stuart 12\n"
     ]
    }
   ],
   "source": [
    "#Q12\n",
    "def minion_game(string):\n",
    "    vow = 'AEIOU'\n",
    "    str_len = len(string)\n",
    "    kevin_score, stuart_score = 0, 0\n",
    "\n",
    "    for i in range(str_len):\n",
    "        if s[i] in vow:\n",
    "            kevin_score += (str_len - i)\n",
    "        else:\n",
    "            stuart_score += (str_len - i)\n",
    "\n",
    "    if kevin_score > stuart_score:\n",
    "        print(\"Kevin\", kevin_score)\n",
    "    elif kevin_score < stuart_score:\n",
    "        print(\"Stuart\", stuart_score)\n",
    "    else:\n",
    "        print(\"Draw\")\n",
    "\n",
    "\n",
    "if __name__ == '__main__':\n",
    "    s = input()\n",
    "    minion_game(s)"
   ]
  },
  {
   "cell_type": "code",
   "execution_count": 34,
   "id": "1fe31d78",
   "metadata": {},
   "outputs": [
    {
     "name": "stdout",
     "output_type": "stream",
     "text": [
      "AABCAAADA\n",
      "3\n",
      "AB\n",
      "CA\n",
      "AD\n"
     ]
    }
   ],
   "source": [
    "#Q13\n",
    "from collections import OrderedDict\n",
    "\n",
    "\n",
    "def merge_the_tools(string, k):\n",
    "    for i in range(0, len(string), k):\n",
    "        print(''.join(OrderedDict.fromkeys(string[i:i + k])))\n",
    "\n",
    "\n",
    "if __name__ == '__main__':\n",
    "    string, g = input(), int(input())\n",
    "    merge_the_tools(string, g)"
   ]
  },
  {
   "cell_type": "code",
   "execution_count": null,
   "id": "2f11ba8c",
   "metadata": {},
   "outputs": [],
   "source": []
  }
 ],
 "metadata": {
  "kernelspec": {
   "display_name": "Python 3",
   "language": "python",
   "name": "python3"
  },
  "language_info": {
   "codemirror_mode": {
    "name": "ipython",
    "version": 3
   },
   "file_extension": ".py",
   "mimetype": "text/x-python",
   "name": "python",
   "nbconvert_exporter": "python",
   "pygments_lexer": "ipython3",
   "version": "3.8.3"
  }
 },
 "nbformat": 4,
 "nbformat_minor": 5
}
